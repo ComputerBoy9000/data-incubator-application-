{
 "cells": [
  {
   "cell_type": "code",
   "execution_count": 4,
   "metadata": {},
   "outputs": [],
   "source": [
    "import numpy as np\n",
    "import pandas as pd\n",
    "import os\n",
    "\n"
   ]
  },
  {
   "cell_type": "code",
   "execution_count": 8,
   "metadata": {},
   "outputs": [],
   "source": [
    "NYPD_data = pd.read_csv(\"NYPD_Motor_Vehicle_Collisions.csv\", low_memory = False)\n",
    "\n"
   ]
  },
  {
   "cell_type": "code",
   "execution_count": 10,
   "metadata": {},
   "outputs": [
    {
     "data": {
      "text/plain": [
       "Index(['DATE', 'TIME', 'BOROUGH', 'ZIP CODE', 'LATITUDE', 'LONGITUDE',\n",
       "       'LOCATION', 'ON STREET NAME', 'CROSS STREET NAME', 'OFF STREET NAME',\n",
       "       'NUMBER OF PERSONS INJURED', 'NUMBER OF PERSONS KILLED',\n",
       "       'NUMBER OF PEDESTRIANS INJURED', 'NUMBER OF PEDESTRIANS KILLED',\n",
       "       'NUMBER OF CYCLIST INJURED', 'NUMBER OF CYCLIST KILLED',\n",
       "       'NUMBER OF MOTORIST INJURED', 'NUMBER OF MOTORIST KILLED',\n",
       "       'CONTRIBUTING FACTOR VEHICLE 1', 'CONTRIBUTING FACTOR VEHICLE 2',\n",
       "       'CONTRIBUTING FACTOR VEHICLE 3', 'CONTRIBUTING FACTOR VEHICLE 4',\n",
       "       'CONTRIBUTING FACTOR VEHICLE 5', 'UNIQUE KEY', 'VEHICLE TYPE CODE 1',\n",
       "       'VEHICLE TYPE CODE 2', 'VEHICLE TYPE CODE 3', 'VEHICLE TYPE CODE 4',\n",
       "       'VEHICLE TYPE CODE 5'],\n",
       "      dtype='object')"
      ]
     },
     "execution_count": 10,
     "metadata": {},
     "output_type": "execute_result"
    }
   ],
   "source": [
    "NYPD_data.columns"
   ]
  },
  {
   "cell_type": "code",
   "execution_count": 15,
   "metadata": {},
   "outputs": [
    {
     "data": {
      "text/plain": [
       "DATE                              object\n",
       "TIME                              object\n",
       "BOROUGH                           object\n",
       "ZIP CODE                          object\n",
       "LATITUDE                         float64\n",
       "LONGITUDE                        float64\n",
       "LOCATION                          object\n",
       "ON STREET NAME                    object\n",
       "CROSS STREET NAME                 object\n",
       "OFF STREET NAME                   object\n",
       "NUMBER OF PERSONS INJURED        float64\n",
       "NUMBER OF PERSONS KILLED         float64\n",
       "NUMBER OF PEDESTRIANS INJURED      int64\n",
       "NUMBER OF PEDESTRIANS KILLED       int64\n",
       "NUMBER OF CYCLIST INJURED          int64\n",
       "NUMBER OF CYCLIST KILLED           int64\n",
       "NUMBER OF MOTORIST INJURED         int64\n",
       "NUMBER OF MOTORIST KILLED          int64\n",
       "CONTRIBUTING FACTOR VEHICLE 1     object\n",
       "CONTRIBUTING FACTOR VEHICLE 2     object\n",
       "CONTRIBUTING FACTOR VEHICLE 3     object\n",
       "CONTRIBUTING FACTOR VEHICLE 4     object\n",
       "CONTRIBUTING FACTOR VEHICLE 5     object\n",
       "UNIQUE KEY                         int64\n",
       "VEHICLE TYPE CODE 1               object\n",
       "VEHICLE TYPE CODE 2               object\n",
       "VEHICLE TYPE CODE 3               object\n",
       "VEHICLE TYPE CODE 4               object\n",
       "VEHICLE TYPE CODE 5               object\n",
       "dtype: object"
      ]
     },
     "execution_count": 15,
     "metadata": {},
     "output_type": "execute_result"
    }
   ],
   "source": [
    "NYPD_data.dtypes"
   ]
  },
  {
   "cell_type": "code",
   "execution_count": 14,
   "metadata": {},
   "outputs": [
    {
     "data": {
      "text/html": [
       "<div>\n",
       "<style scoped>\n",
       "    .dataframe tbody tr th:only-of-type {\n",
       "        vertical-align: middle;\n",
       "    }\n",
       "\n",
       "    .dataframe tbody tr th {\n",
       "        vertical-align: top;\n",
       "    }\n",
       "\n",
       "    .dataframe thead th {\n",
       "        text-align: right;\n",
       "    }\n",
       "</style>\n",
       "<table border=\"1\" class=\"dataframe\">\n",
       "  <thead>\n",
       "    <tr style=\"text-align: right;\">\n",
       "      <th></th>\n",
       "      <th>DATE</th>\n",
       "      <th>TIME</th>\n",
       "      <th>BOROUGH</th>\n",
       "      <th>ZIP CODE</th>\n",
       "      <th>LATITUDE</th>\n",
       "      <th>LONGITUDE</th>\n",
       "      <th>LOCATION</th>\n",
       "      <th>ON STREET NAME</th>\n",
       "      <th>CROSS STREET NAME</th>\n",
       "      <th>OFF STREET NAME</th>\n",
       "      <th>...</th>\n",
       "      <th>CONTRIBUTING FACTOR VEHICLE 2</th>\n",
       "      <th>CONTRIBUTING FACTOR VEHICLE 3</th>\n",
       "      <th>CONTRIBUTING FACTOR VEHICLE 4</th>\n",
       "      <th>CONTRIBUTING FACTOR VEHICLE 5</th>\n",
       "      <th>UNIQUE KEY</th>\n",
       "      <th>VEHICLE TYPE CODE 1</th>\n",
       "      <th>VEHICLE TYPE CODE 2</th>\n",
       "      <th>VEHICLE TYPE CODE 3</th>\n",
       "      <th>VEHICLE TYPE CODE 4</th>\n",
       "      <th>VEHICLE TYPE CODE 5</th>\n",
       "    </tr>\n",
       "  </thead>\n",
       "  <tbody>\n",
       "    <tr>\n",
       "      <th>0</th>\n",
       "      <td>04/28/2019</td>\n",
       "      <td>0:00</td>\n",
       "      <td>BROOKLYN</td>\n",
       "      <td>11208</td>\n",
       "      <td>40.685050</td>\n",
       "      <td>-73.875950</td>\n",
       "      <td>(40.68505, -73.87595)</td>\n",
       "      <td>NaN</td>\n",
       "      <td>NaN</td>\n",
       "      <td>126       CHESTNUT STREET</td>\n",
       "      <td>...</td>\n",
       "      <td>Passing Too Closely</td>\n",
       "      <td>NaN</td>\n",
       "      <td>NaN</td>\n",
       "      <td>NaN</td>\n",
       "      <td>4122662</td>\n",
       "      <td>Sedan</td>\n",
       "      <td>NaN</td>\n",
       "      <td>NaN</td>\n",
       "      <td>NaN</td>\n",
       "      <td>NaN</td>\n",
       "    </tr>\n",
       "    <tr>\n",
       "      <th>1</th>\n",
       "      <td>04/28/2019</td>\n",
       "      <td>0:00</td>\n",
       "      <td>QUEENS</td>\n",
       "      <td>11419</td>\n",
       "      <td>40.690490</td>\n",
       "      <td>-73.816086</td>\n",
       "      <td>(40.69049, -73.816086)</td>\n",
       "      <td>103 AVENUE</td>\n",
       "      <td>130 STREET</td>\n",
       "      <td>NaN</td>\n",
       "      <td>...</td>\n",
       "      <td>Unspecified</td>\n",
       "      <td>NaN</td>\n",
       "      <td>NaN</td>\n",
       "      <td>NaN</td>\n",
       "      <td>4121710</td>\n",
       "      <td>Station Wagon/Sport Utility Vehicle</td>\n",
       "      <td>Station Wagon/Sport Utility Vehicle</td>\n",
       "      <td>NaN</td>\n",
       "      <td>NaN</td>\n",
       "      <td>NaN</td>\n",
       "    </tr>\n",
       "    <tr>\n",
       "      <th>2</th>\n",
       "      <td>04/28/2019</td>\n",
       "      <td>0:00</td>\n",
       "      <td>NaN</td>\n",
       "      <td>NaN</td>\n",
       "      <td>40.699955</td>\n",
       "      <td>-73.986820</td>\n",
       "      <td>(40.699955, -73.98682)</td>\n",
       "      <td>JAY STREET</td>\n",
       "      <td>SANDS STREET</td>\n",
       "      <td>NaN</td>\n",
       "      <td>...</td>\n",
       "      <td>Unspecified</td>\n",
       "      <td>NaN</td>\n",
       "      <td>NaN</td>\n",
       "      <td>NaN</td>\n",
       "      <td>4122602</td>\n",
       "      <td>Sedan</td>\n",
       "      <td>Bike</td>\n",
       "      <td>NaN</td>\n",
       "      <td>NaN</td>\n",
       "      <td>NaN</td>\n",
       "    </tr>\n",
       "    <tr>\n",
       "      <th>3</th>\n",
       "      <td>04/28/2019</td>\n",
       "      <td>0:01</td>\n",
       "      <td>QUEENS</td>\n",
       "      <td>11369</td>\n",
       "      <td>40.760900</td>\n",
       "      <td>-73.870180</td>\n",
       "      <td>(40.7609, -73.87018)</td>\n",
       "      <td>99 STREET</td>\n",
       "      <td>31 AVENUE</td>\n",
       "      <td>NaN</td>\n",
       "      <td>...</td>\n",
       "      <td>Unspecified</td>\n",
       "      <td>NaN</td>\n",
       "      <td>NaN</td>\n",
       "      <td>NaN</td>\n",
       "      <td>4123523</td>\n",
       "      <td>Sedan</td>\n",
       "      <td>Station Wagon/Sport Utility Vehicle</td>\n",
       "      <td>NaN</td>\n",
       "      <td>NaN</td>\n",
       "      <td>NaN</td>\n",
       "    </tr>\n",
       "    <tr>\n",
       "      <th>4</th>\n",
       "      <td>04/28/2019</td>\n",
       "      <td>0:05</td>\n",
       "      <td>BROOKLYN</td>\n",
       "      <td>11233</td>\n",
       "      <td>40.676884</td>\n",
       "      <td>-73.919230</td>\n",
       "      <td>(40.676884, -73.91923)</td>\n",
       "      <td>HOWARD AVENUE</td>\n",
       "      <td>ATLANTIC AVENUE</td>\n",
       "      <td>NaN</td>\n",
       "      <td>...</td>\n",
       "      <td>Unspecified</td>\n",
       "      <td>Unspecified</td>\n",
       "      <td>NaN</td>\n",
       "      <td>NaN</td>\n",
       "      <td>4122095</td>\n",
       "      <td>Station Wagon/Sport Utility Vehicle</td>\n",
       "      <td>Sedan</td>\n",
       "      <td>Sedan</td>\n",
       "      <td>NaN</td>\n",
       "      <td>NaN</td>\n",
       "    </tr>\n",
       "  </tbody>\n",
       "</table>\n",
       "<p>5 rows × 29 columns</p>\n",
       "</div>"
      ],
      "text/plain": [
       "         DATE  TIME   BOROUGH ZIP CODE   LATITUDE  LONGITUDE  \\\n",
       "0  04/28/2019  0:00  BROOKLYN    11208  40.685050 -73.875950   \n",
       "1  04/28/2019  0:00    QUEENS    11419  40.690490 -73.816086   \n",
       "2  04/28/2019  0:00       NaN      NaN  40.699955 -73.986820   \n",
       "3  04/28/2019  0:01    QUEENS    11369  40.760900 -73.870180   \n",
       "4  04/28/2019  0:05  BROOKLYN    11233  40.676884 -73.919230   \n",
       "\n",
       "                 LOCATION                    ON STREET NAME CROSS STREET NAME  \\\n",
       "0   (40.68505, -73.87595)                               NaN               NaN   \n",
       "1  (40.69049, -73.816086)  103 AVENUE                              130 STREET   \n",
       "2  (40.699955, -73.98682)  JAY STREET                            SANDS STREET   \n",
       "3    (40.7609, -73.87018)  99 STREET                                31 AVENUE   \n",
       "4  (40.676884, -73.91923)  HOWARD AVENUE                      ATLANTIC AVENUE   \n",
       "\n",
       "                            OFF STREET NAME         ...          \\\n",
       "0  126       CHESTNUT STREET                        ...           \n",
       "1                                       NaN         ...           \n",
       "2                                       NaN         ...           \n",
       "3                                       NaN         ...           \n",
       "4                                       NaN         ...           \n",
       "\n",
       "   CONTRIBUTING FACTOR VEHICLE 2  CONTRIBUTING FACTOR VEHICLE 3  \\\n",
       "0            Passing Too Closely                            NaN   \n",
       "1                    Unspecified                            NaN   \n",
       "2                    Unspecified                            NaN   \n",
       "3                    Unspecified                            NaN   \n",
       "4                    Unspecified                    Unspecified   \n",
       "\n",
       "   CONTRIBUTING FACTOR VEHICLE 4  CONTRIBUTING FACTOR VEHICLE 5  UNIQUE KEY  \\\n",
       "0                            NaN                            NaN     4122662   \n",
       "1                            NaN                            NaN     4121710   \n",
       "2                            NaN                            NaN     4122602   \n",
       "3                            NaN                            NaN     4123523   \n",
       "4                            NaN                            NaN     4122095   \n",
       "\n",
       "                   VEHICLE TYPE CODE 1                  VEHICLE TYPE CODE 2  \\\n",
       "0                                Sedan                                  NaN   \n",
       "1  Station Wagon/Sport Utility Vehicle  Station Wagon/Sport Utility Vehicle   \n",
       "2                                Sedan                                 Bike   \n",
       "3                                Sedan  Station Wagon/Sport Utility Vehicle   \n",
       "4  Station Wagon/Sport Utility Vehicle                                Sedan   \n",
       "\n",
       "   VEHICLE TYPE CODE 3 VEHICLE TYPE CODE 4 VEHICLE TYPE CODE 5  \n",
       "0                  NaN                 NaN                 NaN  \n",
       "1                  NaN                 NaN                 NaN  \n",
       "2                  NaN                 NaN                 NaN  \n",
       "3                  NaN                 NaN                 NaN  \n",
       "4                Sedan                 NaN                 NaN  \n",
       "\n",
       "[5 rows x 29 columns]"
      ]
     },
     "execution_count": 14,
     "metadata": {},
     "output_type": "execute_result"
    }
   ],
   "source": [
    "NYPD_data.head()"
   ]
  },
  {
   "cell_type": "code",
   "execution_count": 20,
   "metadata": {},
   "outputs": [],
   "source": [
    "NYPD_data[\"DATE\"] = pd.to_datetime(NYPD_data[\"DATE\"])"
   ]
  },
  {
   "cell_type": "code",
   "execution_count": 55,
   "metadata": {},
   "outputs": [],
   "source": [
    "NYPD_data_18 = NYPD_data.loc[NYPD_data[\"DATE\"] < \"2019-01-01\"]"
   ]
  },
  {
   "cell_type": "code",
   "execution_count": 56,
   "metadata": {},
   "outputs": [
    {
     "data": {
      "text/html": [
       "<div>\n",
       "<style scoped>\n",
       "    .dataframe tbody tr th:only-of-type {\n",
       "        vertical-align: middle;\n",
       "    }\n",
       "\n",
       "    .dataframe tbody tr th {\n",
       "        vertical-align: top;\n",
       "    }\n",
       "\n",
       "    .dataframe thead th {\n",
       "        text-align: right;\n",
       "    }\n",
       "</style>\n",
       "<table border=\"1\" class=\"dataframe\">\n",
       "  <thead>\n",
       "    <tr style=\"text-align: right;\">\n",
       "      <th></th>\n",
       "      <th>DATE</th>\n",
       "      <th>TIME</th>\n",
       "      <th>BOROUGH</th>\n",
       "      <th>ZIP CODE</th>\n",
       "      <th>LATITUDE</th>\n",
       "      <th>LONGITUDE</th>\n",
       "      <th>LOCATION</th>\n",
       "      <th>ON STREET NAME</th>\n",
       "      <th>CROSS STREET NAME</th>\n",
       "      <th>OFF STREET NAME</th>\n",
       "      <th>...</th>\n",
       "      <th>CONTRIBUTING FACTOR VEHICLE 2</th>\n",
       "      <th>CONTRIBUTING FACTOR VEHICLE 3</th>\n",
       "      <th>CONTRIBUTING FACTOR VEHICLE 4</th>\n",
       "      <th>CONTRIBUTING FACTOR VEHICLE 5</th>\n",
       "      <th>UNIQUE KEY</th>\n",
       "      <th>VEHICLE TYPE CODE 1</th>\n",
       "      <th>VEHICLE TYPE CODE 2</th>\n",
       "      <th>VEHICLE TYPE CODE 3</th>\n",
       "      <th>VEHICLE TYPE CODE 4</th>\n",
       "      <th>VEHICLE TYPE CODE 5</th>\n",
       "    </tr>\n",
       "  </thead>\n",
       "  <tbody>\n",
       "    <tr>\n",
       "      <th>121</th>\n",
       "      <td>2018-12-29</td>\n",
       "      <td>19:45</td>\n",
       "      <td>NaN</td>\n",
       "      <td>NaN</td>\n",
       "      <td>NaN</td>\n",
       "      <td>NaN</td>\n",
       "      <td>NaN</td>\n",
       "      <td>EAST BEDFORD PARK BOULEVARD</td>\n",
       "      <td>NaN</td>\n",
       "      <td>NaN</td>\n",
       "      <td>...</td>\n",
       "      <td>NaN</td>\n",
       "      <td>NaN</td>\n",
       "      <td>NaN</td>\n",
       "      <td>NaN</td>\n",
       "      <td>4055860</td>\n",
       "      <td>Sedan</td>\n",
       "      <td>NaN</td>\n",
       "      <td>NaN</td>\n",
       "      <td>NaN</td>\n",
       "      <td>NaN</td>\n",
       "    </tr>\n",
       "    <tr>\n",
       "      <th>564</th>\n",
       "      <td>2018-12-24</td>\n",
       "      <td>10:00</td>\n",
       "      <td>NaN</td>\n",
       "      <td>NaN</td>\n",
       "      <td>NaN</td>\n",
       "      <td>NaN</td>\n",
       "      <td>NaN</td>\n",
       "      <td>CROSS ISLAND PARKWAY</td>\n",
       "      <td>NaN</td>\n",
       "      <td>NaN</td>\n",
       "      <td>...</td>\n",
       "      <td>NaN</td>\n",
       "      <td>NaN</td>\n",
       "      <td>NaN</td>\n",
       "      <td>NaN</td>\n",
       "      <td>4055249</td>\n",
       "      <td>Sedan</td>\n",
       "      <td>NaN</td>\n",
       "      <td>NaN</td>\n",
       "      <td>NaN</td>\n",
       "      <td>NaN</td>\n",
       "    </tr>\n",
       "    <tr>\n",
       "      <th>7206</th>\n",
       "      <td>2018-12-17</td>\n",
       "      <td>14:30</td>\n",
       "      <td>NaN</td>\n",
       "      <td>NaN</td>\n",
       "      <td>40.759270</td>\n",
       "      <td>-73.980896</td>\n",
       "      <td>(40.75927, -73.980896)</td>\n",
       "      <td>WEST 49 STREET</td>\n",
       "      <td>NaN</td>\n",
       "      <td>NaN</td>\n",
       "      <td>...</td>\n",
       "      <td>NaN</td>\n",
       "      <td>NaN</td>\n",
       "      <td>NaN</td>\n",
       "      <td>NaN</td>\n",
       "      <td>4047978</td>\n",
       "      <td>NaN</td>\n",
       "      <td>NaN</td>\n",
       "      <td>NaN</td>\n",
       "      <td>NaN</td>\n",
       "      <td>NaN</td>\n",
       "    </tr>\n",
       "    <tr>\n",
       "      <th>7473</th>\n",
       "      <td>2018-11-27</td>\n",
       "      <td>17:17</td>\n",
       "      <td>NaN</td>\n",
       "      <td>NaN</td>\n",
       "      <td>40.651512</td>\n",
       "      <td>-74.007340</td>\n",
       "      <td>(40.651512, -74.00734)</td>\n",
       "      <td>41 STREET</td>\n",
       "      <td>NaN</td>\n",
       "      <td>NaN</td>\n",
       "      <td>...</td>\n",
       "      <td>NaN</td>\n",
       "      <td>NaN</td>\n",
       "      <td>NaN</td>\n",
       "      <td>NaN</td>\n",
       "      <td>4033872</td>\n",
       "      <td>Sedan</td>\n",
       "      <td>NaN</td>\n",
       "      <td>NaN</td>\n",
       "      <td>NaN</td>\n",
       "      <td>NaN</td>\n",
       "    </tr>\n",
       "    <tr>\n",
       "      <th>7815</th>\n",
       "      <td>2018-11-27</td>\n",
       "      <td>17:18</td>\n",
       "      <td>NaN</td>\n",
       "      <td>NaN</td>\n",
       "      <td>40.801155</td>\n",
       "      <td>-73.959656</td>\n",
       "      <td>(40.801155, -73.959656)</td>\n",
       "      <td>CATHEDRAL PARKWAY</td>\n",
       "      <td>NaN</td>\n",
       "      <td>NaN</td>\n",
       "      <td>...</td>\n",
       "      <td>NaN</td>\n",
       "      <td>NaN</td>\n",
       "      <td>NaN</td>\n",
       "      <td>NaN</td>\n",
       "      <td>4034033</td>\n",
       "      <td>Sedan</td>\n",
       "      <td>NaN</td>\n",
       "      <td>NaN</td>\n",
       "      <td>NaN</td>\n",
       "      <td>NaN</td>\n",
       "    </tr>\n",
       "    <tr>\n",
       "      <th>7888</th>\n",
       "      <td>2018-11-24</td>\n",
       "      <td>14:05</td>\n",
       "      <td>NaN</td>\n",
       "      <td>NaN</td>\n",
       "      <td>NaN</td>\n",
       "      <td>NaN</td>\n",
       "      <td>NaN</td>\n",
       "      <td>BRONX WHITESTONE BRIDGE</td>\n",
       "      <td>NaN</td>\n",
       "      <td>NaN</td>\n",
       "      <td>...</td>\n",
       "      <td>Unspecified</td>\n",
       "      <td>NaN</td>\n",
       "      <td>NaN</td>\n",
       "      <td>NaN</td>\n",
       "      <td>4033006</td>\n",
       "      <td>Sedan</td>\n",
       "      <td>Sedan</td>\n",
       "      <td>NaN</td>\n",
       "      <td>NaN</td>\n",
       "      <td>NaN</td>\n",
       "    </tr>\n",
       "    <tr>\n",
       "      <th>8081</th>\n",
       "      <td>2018-11-19</td>\n",
       "      <td>14:00</td>\n",
       "      <td>NaN</td>\n",
       "      <td>NaN</td>\n",
       "      <td>NaN</td>\n",
       "      <td>NaN</td>\n",
       "      <td>NaN</td>\n",
       "      <td>63 street</td>\n",
       "      <td>1 avenue</td>\n",
       "      <td>NaN</td>\n",
       "      <td>...</td>\n",
       "      <td>Unspecified</td>\n",
       "      <td>NaN</td>\n",
       "      <td>NaN</td>\n",
       "      <td>NaN</td>\n",
       "      <td>4029108</td>\n",
       "      <td>Sedan</td>\n",
       "      <td>NaN</td>\n",
       "      <td>NaN</td>\n",
       "      <td>NaN</td>\n",
       "      <td>NaN</td>\n",
       "    </tr>\n",
       "    <tr>\n",
       "      <th>8155</th>\n",
       "      <td>2018-11-15</td>\n",
       "      <td>21:00</td>\n",
       "      <td>NaN</td>\n",
       "      <td>NaN</td>\n",
       "      <td>NaN</td>\n",
       "      <td>NaN</td>\n",
       "      <td>NaN</td>\n",
       "      <td>QUEENS MIDTOWN TUNNEL</td>\n",
       "      <td>NaN</td>\n",
       "      <td>NaN</td>\n",
       "      <td>...</td>\n",
       "      <td>Unspecified</td>\n",
       "      <td>NaN</td>\n",
       "      <td>NaN</td>\n",
       "      <td>NaN</td>\n",
       "      <td>4029185</td>\n",
       "      <td>Sedan</td>\n",
       "      <td>Sedan</td>\n",
       "      <td>NaN</td>\n",
       "      <td>NaN</td>\n",
       "      <td>NaN</td>\n",
       "    </tr>\n",
       "    <tr>\n",
       "      <th>8399</th>\n",
       "      <td>2018-11-15</td>\n",
       "      <td>23:35</td>\n",
       "      <td>NaN</td>\n",
       "      <td>NaN</td>\n",
       "      <td>NaN</td>\n",
       "      <td>NaN</td>\n",
       "      <td>NaN</td>\n",
       "      <td>VANCORTLANDT PARK WEST</td>\n",
       "      <td>BROADWAY</td>\n",
       "      <td>NaN</td>\n",
       "      <td>...</td>\n",
       "      <td>Unspecified</td>\n",
       "      <td>NaN</td>\n",
       "      <td>NaN</td>\n",
       "      <td>NaN</td>\n",
       "      <td>4027376</td>\n",
       "      <td>Sedan</td>\n",
       "      <td>Sedan</td>\n",
       "      <td>NaN</td>\n",
       "      <td>NaN</td>\n",
       "      <td>NaN</td>\n",
       "    </tr>\n",
       "    <tr>\n",
       "      <th>9155</th>\n",
       "      <td>2018-11-15</td>\n",
       "      <td>7:10</td>\n",
       "      <td>NaN</td>\n",
       "      <td>NaN</td>\n",
       "      <td>40.694840</td>\n",
       "      <td>-73.983910</td>\n",
       "      <td>(40.69484, -73.98391)</td>\n",
       "      <td>JOHNSON STREET</td>\n",
       "      <td>NaN</td>\n",
       "      <td>NaN</td>\n",
       "      <td>...</td>\n",
       "      <td>NaN</td>\n",
       "      <td>NaN</td>\n",
       "      <td>NaN</td>\n",
       "      <td>NaN</td>\n",
       "      <td>4027679</td>\n",
       "      <td>Sedan</td>\n",
       "      <td>NaN</td>\n",
       "      <td>NaN</td>\n",
       "      <td>NaN</td>\n",
       "      <td>NaN</td>\n",
       "    </tr>\n",
       "  </tbody>\n",
       "</table>\n",
       "<p>10 rows × 29 columns</p>\n",
       "</div>"
      ],
      "text/plain": [
       "           DATE   TIME BOROUGH ZIP CODE   LATITUDE  LONGITUDE  \\\n",
       "121  2018-12-29  19:45     NaN      NaN        NaN        NaN   \n",
       "564  2018-12-24  10:00     NaN      NaN        NaN        NaN   \n",
       "7206 2018-12-17  14:30     NaN      NaN  40.759270 -73.980896   \n",
       "7473 2018-11-27  17:17     NaN      NaN  40.651512 -74.007340   \n",
       "7815 2018-11-27  17:18     NaN      NaN  40.801155 -73.959656   \n",
       "7888 2018-11-24  14:05     NaN      NaN        NaN        NaN   \n",
       "8081 2018-11-19  14:00     NaN      NaN        NaN        NaN   \n",
       "8155 2018-11-15  21:00     NaN      NaN        NaN        NaN   \n",
       "8399 2018-11-15  23:35     NaN      NaN        NaN        NaN   \n",
       "9155 2018-11-15   7:10     NaN      NaN  40.694840 -73.983910   \n",
       "\n",
       "                     LOCATION                    ON STREET NAME  \\\n",
       "121                       NaN  EAST BEDFORD PARK BOULEVARD        \n",
       "564                       NaN  CROSS ISLAND PARKWAY               \n",
       "7206   (40.75927, -73.980896)  WEST 49 STREET                     \n",
       "7473   (40.651512, -74.00734)  41 STREET                          \n",
       "7815  (40.801155, -73.959656)  CATHEDRAL PARKWAY                  \n",
       "7888                      NaN  BRONX WHITESTONE BRIDGE            \n",
       "8081                      NaN  63 street                          \n",
       "8155                      NaN  QUEENS MIDTOWN TUNNEL              \n",
       "8399                      NaN  VANCORTLANDT PARK WEST             \n",
       "9155    (40.69484, -73.98391)  JOHNSON STREET                     \n",
       "\n",
       "     CROSS STREET NAME OFF STREET NAME         ...          \\\n",
       "121                NaN             NaN         ...           \n",
       "564                NaN             NaN         ...           \n",
       "7206               NaN             NaN         ...           \n",
       "7473               NaN             NaN         ...           \n",
       "7815               NaN             NaN         ...           \n",
       "7888               NaN             NaN         ...           \n",
       "8081          1 avenue             NaN         ...           \n",
       "8155               NaN             NaN         ...           \n",
       "8399          BROADWAY             NaN         ...           \n",
       "9155               NaN             NaN         ...           \n",
       "\n",
       "      CONTRIBUTING FACTOR VEHICLE 2  CONTRIBUTING FACTOR VEHICLE 3  \\\n",
       "121                             NaN                            NaN   \n",
       "564                             NaN                            NaN   \n",
       "7206                            NaN                            NaN   \n",
       "7473                            NaN                            NaN   \n",
       "7815                            NaN                            NaN   \n",
       "7888                    Unspecified                            NaN   \n",
       "8081                    Unspecified                            NaN   \n",
       "8155                    Unspecified                            NaN   \n",
       "8399                    Unspecified                            NaN   \n",
       "9155                            NaN                            NaN   \n",
       "\n",
       "      CONTRIBUTING FACTOR VEHICLE 4  CONTRIBUTING FACTOR VEHICLE 5  \\\n",
       "121                             NaN                            NaN   \n",
       "564                             NaN                            NaN   \n",
       "7206                            NaN                            NaN   \n",
       "7473                            NaN                            NaN   \n",
       "7815                            NaN                            NaN   \n",
       "7888                            NaN                            NaN   \n",
       "8081                            NaN                            NaN   \n",
       "8155                            NaN                            NaN   \n",
       "8399                            NaN                            NaN   \n",
       "9155                            NaN                            NaN   \n",
       "\n",
       "      UNIQUE KEY  VEHICLE TYPE CODE 1  VEHICLE TYPE CODE 2  \\\n",
       "121      4055860                Sedan                  NaN   \n",
       "564      4055249                Sedan                  NaN   \n",
       "7206     4047978                  NaN                  NaN   \n",
       "7473     4033872                Sedan                  NaN   \n",
       "7815     4034033                Sedan                  NaN   \n",
       "7888     4033006                Sedan                Sedan   \n",
       "8081     4029108                Sedan                  NaN   \n",
       "8155     4029185                Sedan                Sedan   \n",
       "8399     4027376                Sedan                Sedan   \n",
       "9155     4027679                Sedan                  NaN   \n",
       "\n",
       "      VEHICLE TYPE CODE 3 VEHICLE TYPE CODE 4 VEHICLE TYPE CODE 5  \n",
       "121                   NaN                 NaN                 NaN  \n",
       "564                   NaN                 NaN                 NaN  \n",
       "7206                  NaN                 NaN                 NaN  \n",
       "7473                  NaN                 NaN                 NaN  \n",
       "7815                  NaN                 NaN                 NaN  \n",
       "7888                  NaN                 NaN                 NaN  \n",
       "8081                  NaN                 NaN                 NaN  \n",
       "8155                  NaN                 NaN                 NaN  \n",
       "8399                  NaN                 NaN                 NaN  \n",
       "9155                  NaN                 NaN                 NaN  \n",
       "\n",
       "[10 rows x 29 columns]"
      ]
     },
     "execution_count": 56,
     "metadata": {},
     "output_type": "execute_result"
    }
   ],
   "source": [
    "NYPD_data_18.head(10)"
   ]
  },
  {
   "cell_type": "code",
   "execution_count": 57,
   "metadata": {},
   "outputs": [
    {
     "data": {
      "text/plain": [
       "368034.0"
      ]
     },
     "execution_count": 57,
     "metadata": {},
     "output_type": "execute_result"
    }
   ],
   "source": [
    "NYPD_data_18[\"NUMBER OF PERSONS INJURED\"].sum()"
   ]
  },
  {
   "cell_type": "code",
   "execution_count": 37,
   "metadata": {},
   "outputs": [
    {
     "data": {
      "text/plain": [
       "368034.0"
      ]
     },
     "execution_count": 37,
     "metadata": {},
     "output_type": "execute_result"
    }
   ],
   "source": [
    "NYPD_data[\"NUMBER OF PERSONS INJURED\"].loc[NYPD_data[\"DATE\"] < \"2019-01-01\"].sum()"
   ]
  },
  {
   "cell_type": "code",
   "execution_count": 63,
   "metadata": {},
   "outputs": [
    {
     "data": {
      "text/plain": [
       "0.308972597802057"
      ]
     },
     "execution_count": 63,
     "metadata": {},
     "output_type": "execute_result"
    }
   ],
   "source": [
    "308587/998752"
   ]
  },
  {
   "cell_type": "code",
   "execution_count": 80,
   "metadata": {},
   "outputs": [
    {
     "data": {
      "text/plain": [
       "BROOKLYN         308587\n",
       "QUEENS           263229\n",
       "MANHATTAN        245338\n",
       "BRONX            136327\n",
       "STATEN ISLAND     45271\n",
       "Name: BOROUGH, dtype: int64"
      ]
     },
     "execution_count": 80,
     "metadata": {},
     "output_type": "execute_result"
    }
   ],
   "source": [
    "NYPD_data_18[\"BOROUGH\"].value_counts(dropna=True)"
   ]
  },
  {
   "cell_type": "code",
   "execution_count": 75,
   "metadata": {
    "scrolled": true
   },
   "outputs": [
    {
     "data": {
      "text/plain": [
       "229788"
      ]
     },
     "execution_count": 75,
     "metadata": {},
     "output_type": "execute_result"
    }
   ],
   "source": [
    "NYPD_data_16 = NYPD_data_18.loc[(NYPD_data_18[\"DATE\"] < \"2017-01-01\") & (NYPD_data_18[\"DATE\"] >= \"2016-01-01\")]\n",
    "\n",
    "len(NYPD_data_16[\"NUMBER OF CYCLIST INJURED\"])"
   ]
  },
  {
   "cell_type": "code",
   "execution_count": 79,
   "metadata": {},
   "outputs": [
    {
     "data": {
      "text/plain": [
       "0.021863630824934286"
      ]
     },
     "execution_count": 79,
     "metadata": {},
     "output_type": "execute_result"
    }
   ],
   "source": [
    "5024/229788"
   ]
  },
  {
   "cell_type": "code",
   "execution_count": 82,
   "metadata": {},
   "outputs": [
    {
     "data": {
      "text/plain": [
       "153289"
      ]
     },
     "execution_count": 82,
     "metadata": {},
     "output_type": "execute_result"
    }
   ],
   "source": [
    "NYPD_data_16[\"BOROUGH\"].value_counts(dropna = True).sum()"
   ]
  },
  {
   "cell_type": "code",
   "execution_count": 83,
   "metadata": {},
   "outputs": [
    {
     "data": {
      "text/plain": [
       "0.30961778079314234"
      ]
     },
     "execution_count": 83,
     "metadata": {},
     "output_type": "execute_result"
    }
   ],
   "source": [
    "47461/153289"
   ]
  },
  {
   "cell_type": "code",
   "execution_count": 95,
   "metadata": {},
   "outputs": [
    {
     "data": {
      "text/plain": [
       "BROOKLYN         602\n",
       "QUEENS           512\n",
       "BRONX            274\n",
       "MANHATTAN        259\n",
       "STATEN ISLAND    100\n",
       "Name: BOROUGH, dtype: int64"
      ]
     },
     "execution_count": 95,
     "metadata": {},
     "output_type": "execute_result"
    }
   ],
   "source": [
    "NYPD_data_17 = NYPD_data_18.loc[(NYPD_data_18[\"DATE\"] < \"2018-01-01\") & (NYPD_data_18[\"DATE\"] >= \"2017-01-01\")]\n",
    "\n",
    "Bronx_pop = 1471160\n",
    "Brook_pop = 2648771\n",
    "Manhattan_pop = 1664727\n",
    "Queens_pop = 2358582\n",
    "Staten_pop = 479458\n",
    "\n",
    "NYPD_data_17alc = NYPD_data_17.loc[(NYPD_data_17[\"CONTRIBUTING FACTOR VEHICLE 1\"] == \"Alcohol Involvement\") |\n",
    "                                  (NYPD_data_17[\"CONTRIBUTING FACTOR VEHICLE 2\"] == \"Alcohol Involvement\") |\n",
    "                                  (NYPD_data_17[\"CONTRIBUTING FACTOR VEHICLE 3\"] == \"Alcohol Involvement\") | \n",
    "                                  (NYPD_data_17[\"CONTRIBUTING FACTOR VEHICLE 4\"] == \"Alcohol Involvement\") |\n",
    "                                  (NYPD_data_17[\"CONTRIBUTING FACTOR VEHICLE 5\"] == \"Alcohol Involvement\")]\n",
    "\n",
    "NYPD_data_17alc[\"BOROUGH\"].value_counts()"
   ]
  },
  {
   "cell_type": "code",
   "execution_count": 98,
   "metadata": {
    "scrolled": true
   },
   "outputs": [
    {
     "name": "stdout",
     "output_type": "stream",
     "text": [
      "0.00022727521556223623\n",
      "0.00021707958425867745\n",
      "0.00018624758693819844\n",
      "0.00015558106524373065\n",
      "0.00020856884231778384\n"
     ]
    }
   ],
   "source": [
    "print(602/Brook_pop)\n",
    "print(512/Queens_pop)\n",
    "print(274/Bronx_pop)\n",
    "print(259/Manhattan_pop)\n",
    "print(100/Staten_pop)"
   ]
  },
  {
   "cell_type": "code",
   "execution_count": 144,
   "metadata": {},
   "outputs": [
    {
     "data": {
      "text/plain": [
       "2    182697\n",
       "1     31545\n",
       "3     11655\n",
       "4      2385\n",
       "5       793\n",
       "0       713\n",
       "Name: CARS IN ACCIDENT, dtype: int64"
      ]
     },
     "execution_count": 144,
     "metadata": {},
     "output_type": "execute_result"
    }
   ],
   "source": [
    "pd.options.mode.chained_assignment = None \n",
    "NYPD_data_16[\"CAR 1\"] = pd.notnull(NYPD_data_16[\"CONTRIBUTING FACTOR VEHICLE 1\"]).astype(int)\n",
    "NYPD_data_16[\"CAR 2\"] = pd.notnull(NYPD_data_16[\"CONTRIBUTING FACTOR VEHICLE 2\"]).astype(int)\n",
    "NYPD_data_16[\"CAR 3\"] = pd.notnull(NYPD_data_16[\"CONTRIBUTING FACTOR VEHICLE 3\"]).astype(int)\n",
    "NYPD_data_16[\"CAR 4\"] = pd.notnull(NYPD_data_16[\"CONTRIBUTING FACTOR VEHICLE 4\"]).astype(int)\n",
    "NYPD_data_16[\"CAR 5\"] = pd.notnull(NYPD_data_16[\"CONTRIBUTING FACTOR VEHICLE 5\"]).astype(int)\n",
    "\n",
    "\n",
    "NYPD_data_16[\"CARS IN ACCIDENT\"] = NYPD_data_16[\"CAR 1\"] + NYPD_data_16[\"CAR 2\"] + NYPD_data_16[\"CAR 3\"] + NYPD_data_16[\"CAR 4\"] + NYPD_data_16[\"CAR 5\"]\n",
    "\n",
    "NYPD_data_16[\"CARS IN ACCIDENT\"].value_counts()\n",
    "\n",
    "\n"
   ]
  },
  {
   "cell_type": "code",
   "execution_count": 180,
   "metadata": {},
   "outputs": [
    {
     "name": "stdout",
     "output_type": "stream",
     "text": [
      "{'11207': 5703, '11101': 4375, '11201': 3905, '10019': 3926, '11234': 4283, '10016': 3806, '11203': 4142, '10022': 3721, '10036': 3727, '10001': 3814, '11236': 3996, '11226': 3868, '11434': 4181, '11385': 3699, '10013': 3360, '11212': 3466, '11208': 3450, '10002': 3333, '11354': 3353, '11233': 3200, '11230': 3145, '11206': 2934, '11213': 3126, '10467': 2975, '11355': 2956, '11368': 2983, '11210': 2911, '10018': 2680, '11220': 2740, '11235': 2861, '10011': 2716, '11211': 2597, '11223': 2697, '11217': 2566, '10466': 2667, '11377': 2701, '11373': 2631, '11420': 2882, '11221': 2602, '10451': 2475, '10458': 2556, '11216': 2614, '10306': 2569, '11432': 2529, '10017': 2322, '11413': 2524, '11214': 2341, '11219': 2350, '10003': 2237, '10457': 2308, '11215': 2251, '11229': 2292, '10035': 2205, '11204': 2296, '11372': 2276, '10029': 2138, '11218': 2180, '10461': 2246, '10469': 2270, '11435': 2239, '11222': 2045, '11238': 2171, '10460': 2134, '10304': 2072, '10065': 2109, '10027': 2030, '10459': 1948, '11419': 2224, '10462': 2032, '11209': 2017, '10312': 1996, '10453': 2039, '11375': 2055, '10454': 1868, '11205': 1857, '10468': 1951, '11422': 2103, '10456': 1877, '10012': 1836, '11237': 1781, '10472': 1822, '11225': 1813, '11378': 1731, '10301': 1797, '11691': 1853, '10463': 1685, '10455': 1635, '10010': 1684, '10025': 1659, '11433': 1668, '10032': 1640, '11417': 1774, '10023': 1509, '10305': 1555, '10473': 1543, '11418': 1606, '10452': 1531, '11412': 1624, '10021': 1463, '10033': 1470, '11358': 1530, '11361': 1465, '10014': 1376, '11228': 1464, '11231': 1307, '11369': 1424, '11374': 1408, '10024': 1333, '11232': 1265, '10465': 1294, '10034': 1247, '11367': 1337, '10128': 1225, '10475': 1262, '10009': 1205, '10474': 1103, '10309': 1266, '11421': 1309, '11224': 1160, '11423': 1246, '11106': 1170, '11379': 1216, '11249': 1099, '10031': 1083, '11429': 1216, '11357': 1124, '10007': 1059, '10028': 1046, '11370': 1118, '11416': 1100, '10310': 979, '11103': 1000, '10030': 992, '11414': 1124, '11365': 1045, '11411': 1031, '11356': 975, '10026': 954, '10470': 914, '11364': 861, '11102': 840, '10037': 821, '11436': 907, '11427': 858, '10075': 736, '10038': 732, '11366': 800, '11105': 764, '10308': 783, '10040': 736, '11428': 818, '11004': 753, '10039': 620, '11426': 722, '11362': 664, '11415': 653, '10314': 643, '11104': 614, '11239': 638, '10004': 508, '11694': 545, '10471': 507, '11692': 462, '11693': 477, '10006': 344, '10307': 361, '11360': 396, '10005': 315, '11363': 336, '10020': 216, '10464': 238, '10000': 173, '11001': 200, '11040': 132, '10119': 75, '10172': 72, '10280': 74, '10168': 48, '11430': 61, '10069': 44, '10121': 49, '10302': 52, '10282': 44, '10281': 33, '10118': 38, '10169': 40, '10278': 22, '11697': 36, '11109': 37, '11005': 35, '10165': 24, '10048': 15, '10105': 13, '10115': 9, '10110': 9, '10111': 10, '10153': 6, '10123': 8, '10155': 4, '10178': 3, '10174': 7, '11359': 3, '10279': 8, '10151': 6, '11242': 2, '10106': 1, '11251': 2, '10107': 4, '10271': 1, '10112': 2, '10170': 2, '10166': 2, '10167': 1, '10173': 2, '10103': 1}\n"
     ]
    }
   ],
   "source": [
    "NYPD_data_16[\"CAR 1\"] = pd.notnull(NYPD_data_16[\"VEHICLE TYPE CODE 1\"]).astype(int)\n",
    "NYPD_data_16[\"CAR 2\"] = pd.notnull(NYPD_data_16[\"VEHICLE TYPE CODE 2\"]).astype(int)\n",
    "NYPD_data_16[\"CAR 3\"] = pd.notnull(NYPD_data_16[\"VEHICLE TYPE CODE 3\"]).astype(int)\n",
    "NYPD_data_16[\"CAR 4\"] = pd.notnull(NYPD_data_16[\"VEHICLE TYPE CODE 4\"]).astype(int)\n",
    "NYPD_data_16[\"CAR 5\"] = pd.notnull(NYPD_data_16[\"VEHICLE TYPE CODE 5\"]).astype(int)\n",
    "\n",
    "\n",
    "NYPD_data_16[\"CARS IN ACCIDENT\"] = NYPD_data_16[\"CAR 1\"] + NYPD_data_16[\"CAR 2\"] + NYPD_data_16[\"CAR 3\"] + NYPD_data_16[\"CAR 4\"] + NYPD_data_16[\"CAR 5\"]\n",
    "\n",
    "NYPD_data_16[\"CARS IN ACCIDENT\"].value_counts()\n",
    "\n",
    "zip_codes = NYPD_data_16[\"ZIP CODE\"].value_counts().index\n",
    "\n",
    "zip_count = {}\n",
    "for zip_code in zip_codes:\n",
    "    zip_count[zip_code] = NYPD_data_16[\"CARS IN ACCIDENT\"].loc[NYPD_data_16[\"ZIP CODE\"] == zip_code].sum()\n",
    "\n",
    "print(zip_count)\n",
    "    \n",
    "    \n",
    "    \n",
    "    "
   ]
  },
  {
   "cell_type": "code",
   "execution_count": 186,
   "metadata": {},
   "outputs": [],
   "source": [
    "NYPD_data_17[\"CAR 1\"] = pd.notnull(NYPD_data_17[\"VEHICLE TYPE CODE 1\"]).astype(int)\n",
    "NYPD_data_17[\"CAR 2\"] = pd.notnull(NYPD_data_17[\"VEHICLE TYPE CODE 2\"]).astype(int)\n",
    "NYPD_data_17[\"CAR 3\"] = pd.notnull(NYPD_data_17[\"VEHICLE TYPE CODE 3\"]).astype(int)\n",
    "NYPD_data_17[\"CAR 4\"] = pd.notnull(NYPD_data_17[\"VEHICLE TYPE CODE 4\"]).astype(int)\n",
    "NYPD_data_17[\"CAR 5\"] = pd.notnull(NYPD_data_17[\"VEHICLE TYPE CODE 5\"]).astype(int)\n",
    "\n",
    "\n",
    "NYPD_data_17[\"CARS IN ACCIDENT\"] = NYPD_data_17[\"CAR 1\"] + NYPD_data_17[\"CAR 2\"] + NYPD_data_17[\"CAR 3\"] + NYPD_data_17[\"CAR 4\"] + NYPD_data_17[\"CAR 5\"]\n",
    "\n",
    "jan_17 = NYPD_data_17.loc[(NYPD_data_17[\"DATE\"] < \"2017-02-01\") & (NYPD_data_17[\"DATE\"] >= \"2017-01-01\")]\n",
    "feb_17 = NYPD_data_17.loc[(NYPD_data_17[\"DATE\"] < \"2017-03-01\") & (NYPD_data_17[\"DATE\"] >= \"2017-02-01\")]\n",
    "mar_17 = NYPD_data_17.loc[(NYPD_data_17[\"DATE\"] < \"2017-04-01\") & (NYPD_data_17[\"DATE\"] >= \"2017-03-01\")]\n",
    "apr_17 = NYPD_data_17.loc[(NYPD_data_17[\"DATE\"] < \"2017-05-01\") & (NYPD_data_17[\"DATE\"] >= \"2017-04-01\")]\n",
    "may_17 = NYPD_data_17.loc[(NYPD_data_17[\"DATE\"] < \"2017-06-01\") & (NYPD_data_17[\"DATE\"] >= \"2017-05-01\")]\n",
    "jun_17 = NYPD_data_17.loc[(NYPD_data_17[\"DATE\"] < \"2017-07-01\") & (NYPD_data_17[\"DATE\"] >= \"2017-06-01\")]\n",
    "jul_17 = NYPD_data_17.loc[(NYPD_data_17[\"DATE\"] < \"2017-08-01\") & (NYPD_data_17[\"DATE\"] >= \"2017-07-01\")]\n",
    "aug_17 = NYPD_data_17.loc[(NYPD_data_17[\"DATE\"] < \"2017-09-01\") & (NYPD_data_17[\"DATE\"] >= \"2017-08-01\")]\n",
    "sep_17 = NYPD_data_17.loc[(NYPD_data_17[\"DATE\"] < \"2017-10-01\") & (NYPD_data_17[\"DATE\"] >= \"2017-09-01\")]\n",
    "oct_17 = NYPD_data_17.loc[(NYPD_data_17[\"DATE\"] < \"2017-11-01\") & (NYPD_data_17[\"DATE\"] >= \"2017-10-01\")]\n",
    "nov_17 = NYPD_data_17.loc[(NYPD_data_17[\"DATE\"] < \"2017-12-01\") & (NYPD_data_17[\"DATE\"] >= \"2017-11-01\")]\n",
    "dec_17 = NYPD_data_17.loc[(NYPD_data_18[\"DATE\"] < \"2018-01-01\") & (NYPD_data_17[\"DATE\"] >= \"2017-12-01\")]\n",
    "\n",
    "months_17 = [jan_17,feb_17,mar_17,apr_17,may_17,jun_17,jul_17,aug_17,sep_17,oct_17,nov_17,dec_17]"
   ]
  },
  {
   "cell_type": "code",
   "execution_count": 191,
   "metadata": {},
   "outputs": [
    {
     "name": "stdout",
     "output_type": "stream",
     "text": [
      "[17551, 15835, 19336, 17829, 21012, 21369, 19593, 19134, 19604, 20358, 19661, 19715]\n",
      "[6212, 1028, 919, 951, 1136, 1154, 1080, 1056, 1147, 1175, 1176, 1186]\n",
      "[0.3539399464417982, 0.06491948215977265, 0.047527927182457595, 0.053340063940770656, 0.05406434418427565, 0.054003462960363145, 0.05512172714745062, 0.055189714644089054, 0.05850846765966129, 0.057716868061695646, 0.05981384466710747, 0.06015724067968552]\n"
     ]
    }
   ],
   "source": [
    "collisions_17 = []\n",
    "multi_car_collisions_17 = []\n",
    "\n",
    "for month in months_17:\n",
    "    collisions_17.append(len(month))\n",
    "    multi_car_collisions_17.append(len(month.loc[month[\"CARS IN ACCIDENT\"] >= 3]))\n",
    "\n",
    "print(collisions_17)\n",
    "print(multi_car_collisions_17)\n",
    "\n",
    "collision_rates = []\n",
    "\n",
    "for i in range(0,12):\n",
    "    collision_rates.append(multi_car_collisions_17[i]/collisions_17[i])\n",
    "print(collision_rates)"
   ]
  },
  {
   "cell_type": "code",
   "execution_count": 202,
   "metadata": {},
   "outputs": [
    {
     "data": {
      "text/plain": [
       "(5573.633342778628, 0.0, 1, array([[ 3344.26128673, 14206.73871327],\n",
       "        [ 4003.73871327, 17008.26128673]]))"
      ]
     },
     "execution_count": 202,
     "metadata": {},
     "output_type": "execute_result"
    }
   ],
   "source": [
    "import scipy as sp\n",
    "from scipy import stats\n",
    "\n",
    "jan_may_obs = np.array([[6212,11339],[1136,19876]])\n",
    "\n",
    "sp.stats.chi2_contingency(jan_may_obs)"
   ]
  },
  {
   "cell_type": "code",
   "execution_count": 220,
   "metadata": {},
   "outputs": [
    {
     "name": "stdout",
     "output_type": "stream",
     "text": [
      "[[203830.38095238]\n",
      " [210278.29523809]\n",
      " [216726.20952381]\n",
      " [223174.12380952]\n",
      " [229622.03809524]\n",
      " [236069.95238095]]\n",
      "        0\n",
      "0  203729\n",
      "1  206030\n",
      "2  217692\n",
      "3  229788\n",
      "4  230997\n",
      "5  231465\n"
     ]
    },
    {
     "data": {
      "text/plain": [
       "array([[6447.91428571]])"
      ]
     },
     "execution_count": 220,
     "metadata": {},
     "output_type": "execute_result"
    }
   ],
   "source": [
    "from sklearn import linear_model\n",
    "\n",
    "NYPD_data_2018 = NYPD_data_18.loc[(NYPD_data_18[\"DATE\"] < \"2019-01-01\") & (NYPD_data_18[\"DATE\"] >= \"2018-01-01\")]\n",
    "NYPD_data_15 = NYPD_data_18.loc[(NYPD_data_18[\"DATE\"] < \"2016-01-01\") & (NYPD_data_18[\"DATE\"] >= \"2015-01-01\")]\n",
    "NYPD_data_14 = NYPD_data_18.loc[(NYPD_data_18[\"DATE\"] < \"2015-01-01\") & (NYPD_data_18[\"DATE\"] >= \"2014-01-01\")]\n",
    "NYPD_data_13 = NYPD_data_18.loc[(NYPD_data_18[\"DATE\"] < \"2014-01-01\") & (NYPD_data_18[\"DATE\"] >= \"2013-01-01\")]\n",
    "\n",
    "x = pd.DataFrame([2013,2014,2015,2016,2017,2018])\n",
    "y = pd.DataFrame([len(NYPD_data_13),len(NYPD_data_14),len(NYPD_data_15),len(NYPD_data_16),len(NYPD_data_17),len(NYPD_data_2018)])\n",
    "\n",
    "lm = linear_model.LinearRegression()\n",
    "model = lm.fit(x,y)\n",
    "print(lm.predict(x))\n",
    "print(y)\n",
    "lm.coef_"
   ]
  },
  {
   "cell_type": "code",
   "execution_count": 234,
   "metadata": {},
   "outputs": [
    {
     "name": "stdout",
     "output_type": "stream",
     "text": [
      " 0.000000     819\n",
      "-74.038086    671\n",
      "-73.984529    586\n",
      "-73.827440    474\n",
      "-73.964314    473\n",
      "-73.989792    455\n",
      "-74.051980    440\n",
      "-73.896853    433\n",
      "-73.912430    429\n",
      "-73.890623    417\n",
      "-73.994910    407\n",
      "-73.984530    407\n",
      "-73.912820    403\n",
      "-73.977196    377\n",
      "-73.994040    368\n",
      "-73.882744    356\n",
      "-73.870369    354\n",
      "-73.967462    353\n",
      "-73.992633    350\n",
      "-73.990623    347\n",
      "-73.925144    343\n",
      "-73.890630    342\n",
      "-73.974945    337\n",
      "-73.905120    337\n",
      "-73.917270    336\n",
      "-73.890675    334\n",
      "-73.999242    334\n",
      "-73.965293    332\n",
      "-73.992604    324\n",
      "-73.974936    322\n",
      "             ... \n",
      "-74.162056      1\n",
      "-73.787546      1\n",
      "-73.821636      1\n",
      "-74.239345      1\n",
      "-73.895341      1\n",
      "-74.142100      1\n",
      "-74.099556      1\n",
      "-74.168743      1\n",
      "-74.086242      1\n",
      "-73.990884      1\n",
      "-74.011020      1\n",
      "-73.805330      1\n",
      "-73.897293      1\n",
      "-73.743304      1\n",
      "-73.954899      1\n",
      "-74.023950      1\n",
      "-74.071980      1\n",
      "-73.774080      1\n",
      "-74.068645      1\n",
      "-73.949793      1\n",
      "-73.729747      1\n",
      "-74.110886      1\n",
      "-73.882456      1\n",
      "-74.084270      1\n",
      "-74.156670      1\n",
      "-73.850445      1\n",
      "-73.810235      1\n",
      "-73.982768      1\n",
      "-74.125420      1\n",
      "-73.852640      1\n",
      "Name: LONGITUDE, Length: 90317, dtype: int64\n",
      "0.000000     819\n",
      "40.608757    670\n",
      "40.798256    626\n",
      "40.696035    586\n",
      "40.804700    492\n",
      "40.759308    489\n",
      "40.760601    473\n",
      "40.757232    455\n",
      "40.604153    440\n",
      "40.675736    433\n",
      "40.704422    431\n",
      "40.658578    417\n",
      "40.861862    386\n",
      "40.696033    378\n",
      "40.720321    368\n",
      "40.744780    359\n",
      "40.733497    354\n",
      "40.760223    353\n",
      "40.758429    350\n",
      "40.750991    347\n",
      "40.810053    343\n",
      "40.820189    334\n",
      "40.759527    334\n",
      "40.768100    329\n",
      "40.724136    324\n",
      "40.746078    322\n",
      "40.857128    319\n",
      "40.756035    317\n",
      "40.783248    314\n",
      "40.761551    312\n",
      "            ... \n",
      "40.601692      1\n",
      "40.734245      1\n",
      "40.725216      1\n",
      "40.662710      1\n",
      "40.867000      1\n",
      "40.862420      1\n",
      "40.648003      1\n",
      "40.840637      1\n",
      "40.822796      1\n",
      "40.669149      1\n",
      "40.599464      1\n",
      "40.601630      1\n",
      "40.865627      1\n",
      "40.616932      1\n",
      "40.845648      1\n",
      "40.635759      1\n",
      "40.574460      1\n",
      "40.707737      1\n",
      "40.601894      1\n",
      "40.685946      1\n",
      "40.689404      1\n",
      "40.633068      1\n",
      "40.729800      1\n",
      "40.818960      1\n",
      "40.684035      1\n",
      "40.898643      1\n",
      "40.851357      1\n",
      "40.833847      1\n",
      "40.623875      1\n",
      "40.723581      1\n",
      "Name: LATITUDE, Length: 112241, dtype: int64\n"
     ]
    }
   ],
   "source": [
    "print(NYPD_data_18[\"LONGITUDE\"].value_counts())\n",
    "print(NYPD_data_18[\"LATITUDE\"].value_counts())"
   ]
  },
  {
   "cell_type": "code",
   "execution_count": 248,
   "metadata": {},
   "outputs": [],
   "source": [
    "import math\n",
    "\n",
    "ellipse_data_raw = NYPD_data_18[[\"ZIP CODE\", \"LONGITUDE\", \"LATITUDE\"]]\n",
    "ellipse_data = ellipse_data_raw.dropna()\n",
    "\n",
    "ellipse_data = ellipse_data.loc[ellipse_data[\"LATITUDE\"] != 0]\n",
    "ellipse_data = ellipse_data.loc[ellipse_data[\"LONGITUDE\"] != 0]\n",
    "\n",
    "ellipse_zip_codes = ellipse_data[\"ZIP CODE\"].value_counts().index\n",
    "\n",
    "collisions_per_sqkm = {}\n",
    "\n",
    "for zip_code in ellipse_zip_codes:\n",
    "    zip_accidents = len(ellipse_data[ellipse_data[\"ZIP CODE\"] == zip_code])\n",
    "    if zip_accidents >= 1000:\n",
    "        lat_km= 111*ellipse_data.loc[ellipse_data[\"ZIP CODE\"] == zip_code, \"LATITUDE\"].std()\n",
    "        lon_km = 85.39*ellipse_data.loc[ellipse_data[\"ZIP CODE\"] == zip_code, \"LONGITUDE\"].std()\n",
    "        sq_km = math.pi*lat_km*lon_km\n",
    "        collisions_per_sqkm[zip_accidents/sq_km] = zip_code"
   ]
  },
  {
   "cell_type": "code",
   "execution_count": 249,
   "metadata": {},
   "outputs": [
    {
     "name": "stdout",
     "output_type": "stream",
     "text": [
      "{6637.7973996293495: '11207', 7543.635546439109: '11101', 35393.73181869512: '10016', 46024.16606072612: '10022', 18541.38575030986: '10019', 23468.70298392928: '10036', 9502.342982773695: '11201', 16218.852662029647: '10001', 7980.694017244689: '11203', 5771.07066846815: '11236', 3827.1372963001822: '11234', 3775.45025329638: '11385', 10820.150650188365: '11226', 30203.202813163316: '10013', 3561.6378855195944: '11434', 18398.756469587723: '10002', 7079.778655446574: '11212', 5679.708633577971: '11208', 7245.248063950381: '11230', 8538.48205643671: '11233', 9491.227887073392: '11206', 6629.054192368883: '11220', 4941.98767878148: '10467', 19363.17471221117: '10018', 6999.946303526089: '11354', 6600.845665406715: '11211', 9369.979603109818: '11213', 5243.868392511601: '11377', 4511.31058058438: '11235', 7983.358894301305: '11373', 14155.884793090845: '10011', 4464.065320764794: '11368', 5259.804622992636: '11355', 13242.212317866888: '11217', 19856.992802138: '10017', 11453.426318359088: '11216', 4126.316772524089: '11223', 4789.919169771541: '10466', 6359.121121959163: '11215', 5944.526108250311: '11210', 4210.518699740352: '11432', 17646.994112524913: '10003', 6246.397591197427: '11221', 5642.465370401727: '11219', 2072.229302546283: '10306', 9687.21064995088: '11372', 4462.898359285535: '10458', 24225.1400463111: '10065', 8739.155014933272: '10029', 4421.656300786652: '11214', 4101.344185577745: '11229', 4938.076104905669: '11204', 4947.752289353143: '11218', 2743.8531678457484: '10469', 2444.766570766257: '11413', 13802.37640376299: '10035', 3950.0072198068788: '11420', 6460.142340213745: '10451', 4240.937925034421: '10457', 6977.215450087127: '11222', 3203.4649623222417: '10461', 6044.820207942073: '11238', 3849.234510786054: '11375', 5150.990005322588: '10460', 10337.449457493007: '10027', 3614.4922264412876: '10468', 2740.03047900974: '11435', 18122.686449626075: '10012', 7014.066228307539: '11225', 16940.32636513331: '10010', 2377.6149728651567: '11422', 2724.48642331668: '10462', 1240.2268118342415: '10304', 5182.103447427061: '11205', 5900.721750183756: '11209', 11787.137203902314: '10023', 5283.183689230932: '11419', 6787.545020859561: '10459', 4668.190871255285: '11237', 6300.538122961493: '10025', 3878.025073465647: '10456', 951.5956576125334: '10312', 4379.525640015344: '10453', 1198.1895668323696: '10301', 4400.92686458374: '10463', 3164.659933987309: '11378', 6378.785084335654: '10454', 1329.8728718501486: '10305', 4371.082903942233: '10452', 10063.469839224008: '10024', 3444.079156908083: '10472', 3600.1269690083104: '11232', 6351.060599113886: '10455', 4462.504467919219: '11417', 2926.587991123744: '11691', 6342.557836140412: '10032', 3727.094089229689: '11433', 5289.671060686517: '10033', 14356.304081872568: '10128', 13999.036528304205: '10021', 12300.116583817733: '10014', 2978.288328072425: '11358', 3458.07421205039: '11418', 3800.067831688928: '11361', 9032.954309444392: '10009', 2744.5122324606095: '11412', 3774.9013046738155: '11228', 2367.4757804592423: '11374', 1591.268853184039: '10473', 4701.168201608367: '11369', 4845.167067272731: '11231', 504.5764445669124: '10465', 4760.09804139032: '10034', 3325.005693909325: '11367', 5170.040732867518: '11106', 2470.9316752416366: '11224', 478.87280210358057: '10314', 3406.481380258869: '10475', 2442.4024343382434: '11379', 4429.169795976353: '11421', 1173.3763791117499: '11423', 8498.094144897692: '10031', 4265.383326078144: '11249', 11357.264104631131: '10028', 5018.793920895999: '11103', 5135.403314645106: '11370', 2624.5083177662436: '10310', 12065.866396487878: '10007', 3257.9966575777457: '11429', 415.90038245527734: '10309', 1406.9597427927574: '11357', 2775.8818430455053: '10474', 3133.2820082123258: '11416', 1343.8177480666868: '11365', 2169.885414346342: '11356', 1788.7118394825493: '11414', 1779.8188649509323: '10470', 1760.0032053310795: '11411', 8770.67337675937: '10030', 1127.2443183342486: '11364', 8208.62162084708: '10026', 5142.314354036717: '11102', 1051.6416443223823: '11427', 8795.828931416987: '10075', 2896.340217393434: '11105', 5345.182568192769: '10037', 11339.580441892696: '10038', 654.6008874636509: '10308', 2236.6318106646286: '11428', 1733.3493498718533: '11004', 5040.077602526339: '11104', 2196.8244297957162: '11436', 1361.7431563852522: '11366', 3310.630513816526: '10040', 1593.5489783843025: '11426', 797.4300499813947: '11362', 1752.88619139362: '11415', 11228.664642599648: '10004', 5644.3734637794205: '10039', 801.3780729422105: '10471', 287.86350744408986: '11694', 296.0981530000618: '11239', 383.7795165913522: '11693', 620.4283726727638: '11692', 823.1391584800613: '11363', 28129.46271156844: '10006', 583.8261703142907: '11360'}\n"
     ]
    }
   ],
   "source": [
    "print(collisions_per_sqkm)"
   ]
  },
  {
   "cell_type": "code",
   "execution_count": 253,
   "metadata": {},
   "outputs": [
    {
     "data": {
      "text/plain": [
       "46024.16606072612"
      ]
     },
     "execution_count": 253,
     "metadata": {},
     "output_type": "execute_result"
    }
   ],
   "source": [
    "max(collisions_per_sqkm)\n"
   ]
  }
 ],
 "metadata": {
  "kernelspec": {
   "display_name": "Python 3",
   "language": "python",
   "name": "python3"
  },
  "language_info": {
   "codemirror_mode": {
    "name": "ipython",
    "version": 3
   },
   "file_extension": ".py",
   "mimetype": "text/x-python",
   "name": "python",
   "nbconvert_exporter": "python",
   "pygments_lexer": "ipython3",
   "version": "3.7.1"
  }
 },
 "nbformat": 4,
 "nbformat_minor": 2
}
